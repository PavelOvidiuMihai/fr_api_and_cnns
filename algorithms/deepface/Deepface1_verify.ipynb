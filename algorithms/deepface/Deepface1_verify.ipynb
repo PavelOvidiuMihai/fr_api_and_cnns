{
  "nbformat": 4,
  "nbformat_minor": 0,
  "metadata": {
    "accelerator": "GPU",
    "colab": {
      "name": "Deepface1_verify.ipynb",
      "provenance": [],
      "collapsed_sections": []
    },
    "kernelspec": {
      "display_name": "Python 3",
      "name": "python3"
    }
  },
  "cells": [
    {
      "cell_type": "code",
      "metadata": {
        "id": "90oBL_8SMpUr"
      },
      "source": [
        "from google.colab import drive\n",
        "drive.mount('/content/gdrive')"
      ],
      "execution_count": null,
      "outputs": []
    },
    {
      "cell_type": "code",
      "metadata": {
        "id": "elOcT8iFPj05"
      },
      "source": [
        " !pip install deepFace\n",
        " !pip install termcolor #for color print"
      ],
      "execution_count": null,
      "outputs": []
    },
    {
      "cell_type": "code",
      "metadata": {
        "id": "lOMGRrvDPnGy"
      },
      "source": [
        "from deepface import DeepFace\n",
        "import matplotlib.pyplot as plt\n",
        "import matplotlib.image as mpimg\n",
        "from termcolor import colored #for color print\n",
        "import json\n",
        "import os"
      ],
      "execution_count": null,
      "outputs": []
    },
    {
      "cell_type": "code",
      "metadata": {
        "id": "X7kqEZ_SQMSR"
      },
      "source": [
        "#consts\n",
        "dataset_path = \"/content/gdrive/MyDrive/MIT_dataset/images/\"\n",
        "file_extension = \".jpg\"\n",
        "result_map = dict()\n",
        "distance_map = dict()\n",
        "\n",
        "models = [\"VGG-Face\", \"Facenet\", \"OpenFace\", \"DeepFace\", \"DeepID\" , \"ArcFace\", \"Dlib\"]\n",
        "metrics = [\"cosine\", \"euclidean\", \"euclidean_l2\"]"
      ],
      "execution_count": null,
      "outputs": []
    },
    {
      "cell_type": "code",
      "metadata": {
        "id": "44KyOH0SRRfW"
      },
      "source": [
        "def init():\n",
        "  global result_map, distance_map\n",
        "\n",
        "  for filename in sorted(os.listdir(dataset_path)):\n",
        "    key = filename.split('.')[0] #get file names without \n",
        "    \n",
        "    print(\"adding \", key, \" to map...\")\n",
        "    result_map.update({key: {} })\n",
        "    distance_map.update({key: {}})\n",
        "  # print(result_map)"
      ],
      "execution_count": null,
      "outputs": []
    },
    {
      "cell_type": "code",
      "metadata": {
        "id": "QU3KhO5dMlMH"
      },
      "source": [
        "def verify(img1_path, img2_path, model_name, model, distance_metric):\n",
        "  \n",
        "  result = DeepFace.verify(img1_path, img2_path, model_name=model_name, model=model, distance_metric=distance_metric)\n",
        "\n",
        "  # print(colored(\"================================\", 'red'))\n",
        "  # print(colored(\"Model name: \", 'green'), model_name)\n",
        "  # print(colored(\"Metric name: \", 'green'), distance_metric)\n",
        "  print(colored(\"Result: \", 'green'), result)\n",
        "  # print(colored(\"================================\", 'red'))\n",
        "\n",
        "  return result[\"verified\"], round(result[\"distance\"], 2) # True / False --- distance"
      ],
      "execution_count": null,
      "outputs": []
    },
    {
      "cell_type": "code",
      "metadata": {
        "id": "cHCRcFuL7ZRx"
      },
      "source": [
        " def print_info(key1, key2, result, distance, model_name):\n",
        "\n",
        "  # print(colored(\"===========================================================================================\", 'red'))\n",
        "  print(\"key1:\", colored(key1, 'green'), \"key2:\", colored(key2, 'green'), \"distance:\", colored(distance, 'green'), end=\" \")\n",
        "\n",
        "  if result:\n",
        "    print(\"result:\", (colored(result, 'green')), \"model_name:\", colored(model_name, 'green'))\n",
        "  else:\n",
        "    print(\"result:\", (colored(result, 'red')), \"model_name:\", colored(model_name, 'green'))\n",
        "\n",
        "  # print(colored(\"===========================================================================================\", 'red'))"
      ],
      "execution_count": null,
      "outputs": []
    },
    {
      "cell_type": "code",
      "metadata": {
        "id": "k31S05wyauI7"
      },
      "source": [
        "def show_final_results(model_name, metric_name, map):\n",
        "\n",
        "  print(\"========================================FINAL RESULTS========================================\")\n",
        "  print(\"MODEL:\", model_name, \"METRIC:\", metric_name)\n",
        "\n",
        "  for key, content in sorted (map.items()):\n",
        "    score = None\n",
        "    if content is not None:\n",
        "      score = content.values()\n",
        "\n",
        "    print(key, \":\", score)"
      ],
      "execution_count": null,
      "outputs": []
    },
    {
      "cell_type": "code",
      "metadata": {
        "id": "BjyoZ4mZMI8A"
      },
      "source": [
        "def clear_maps():\n",
        "  global result_map, distance_map\n",
        "\n",
        "  print(colored(\"clearing map...\", 'red'))\n",
        "  for key in result_map.keys():\n",
        "    result_map.update({key: {} })\n",
        "    distance_map.update({key: {}})"
      ],
      "execution_count": null,
      "outputs": []
    },
    {
      "cell_type": "code",
      "metadata": {
        "id": "lp4tmW-JR4wz"
      },
      "source": [
        "def add_results(models, metrics):\n",
        "  global result_map, distance_map\n",
        "\n",
        "  for model_name in models:\n",
        "    loaded_model=DeepFace.build_model(model_name)\n",
        "\n",
        "    for metric_name in metrics:\n",
        "    \n",
        "      clear_maps()\n",
        "\n",
        "      for key1 in result_map.keys():\n",
        "\n",
        "        complete_file_path_1 = dataset_path + key1 + file_extension\n",
        "\n",
        "        for key2 in result_map.keys():\n",
        "          \n",
        "          #same key case\n",
        "          if key1 == key2:\n",
        "            result_map[key2][key1] = \"True\"\n",
        "            distance_map[key2][key1] = 0.00\n",
        "            continue\n",
        "\n",
        "          #check to see if value at key1 already exists\n",
        "          #check to see if value at key1 at key2 is {}\n",
        "          if not result_map[key1] or not result_map[key1].get(key2):\n",
        "            \n",
        "            complete_file_path_2 = dataset_path + key2 + file_extension\n",
        "\n",
        "            result, distance = verify(complete_file_path_1, complete_file_path_2, model_name, loaded_model, metric_name)\n",
        "            \n",
        "            print_info(key1, key2, result, distance, model_name)\n",
        "\n",
        "\n",
        "            # add result to map - key1\n",
        "            result_map[key1][key2] = str(result)\n",
        "            \n",
        "            # add result to map - key2 \n",
        "            if not result_map[key2].get(key1):\n",
        "              result_map[key2][key1] = str(result)\n",
        "            \n",
        "            # add distance to map - key1\n",
        "            distance_map[key1][key2] = distance\n",
        "             \n",
        "            # add distance to map - key2\n",
        "            if not distance_map[key2].get(key1):\n",
        "              distance_map[key2][key1] = distance\n",
        "            \n",
        "          \n",
        "      print(\"RESULT MAP:\")\n",
        "      show_final_results(model_name, metric_name, result_map)\n",
        "      print(\"DISTANCE MAP:\")\n",
        "      show_final_results(model_name, metric_name, distance_map)"
      ],
      "execution_count": null,
      "outputs": []
    },
    {
      "cell_type": "code",
      "metadata": {
        "id": "GPbTLJ_TavhO"
      },
      "source": [
        "init()\n",
        "\n",
        "#running time to high for:\n",
        "# add_results(models, metrics) \n",
        "\n",
        "#could be use separately like:\n",
        "# add_results([\"VGG-Face\"], [\"cosine\"])  #done\n",
        "# add_results([\"VGG-Face\"], [\"euclidean\"])  #done\n",
        "# add_results([\"VGG-Face\"], [\"euclidean_l2\"])  #done\n",
        "\n",
        "# add_results([\"Facenet\"], [\"cosine\"])   #done\n",
        "# add_results([\"Facenet\"], [\"euclidean\"])  #done\n",
        "# add_results([\"Facenet\"], [\"euclidean_l2\"])  #done\n",
        "\n",
        "# add_results([\"OpenFace\"], [\"cosine\"])   #done\n",
        "# add_results([\"OpenFace\"], [\"euclidean\"])   #done\n",
        "# add_results([\"OpenFace\"], [\"euclidean_l2\"])  #done\n",
        "\n",
        "# add_results([\"DeepFace\"], [\"cosine\"])  #done\n",
        "# add_results([\"DeepFace\"], [\"euclidean\"])  #done\n",
        "# add_results([\"DeepFace\"], [\"euclidean_l2\"])  #done\n",
        "\n",
        "# add_results([\"DeepID\"], [\"cosine\"])   #done\n",
        "# add_results([\"DeepID\"], [\"euclidean\"])   #done\n",
        "# add_results([\"DeepID\"], [\"euclidean_l2\"])  #done\n",
        "\n",
        "# add_results([\"ArcFace\"], [\"cosine\"])  #done\n",
        "# add_results([\"ArcFace\"], [\"euclidean\"])  #done\n",
        "# add_results([\"ArcFace\"], [\"euclidean_l2\"])  #done\n",
        "\n",
        "# add_results([\"Dlib\"], [\"cosine\"])  #done\n",
        "# add_results([\"Dlib\"], [\"euclidean\"])  #done\n",
        "# add_results([\"Dlib\"], [\"euclidean_l2\"]) #done"
      ],
      "execution_count": null,
      "outputs": []
    }
  ]
}
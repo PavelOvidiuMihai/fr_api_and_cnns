{
  "nbformat": 4,
  "nbformat_minor": 0,
  "metadata": {
    "colab": {
      "name": "Betafece API.ipynb",
      "provenance": [],
      "collapsed_sections": []
    },
    "kernelspec": {
      "name": "python3",
      "display_name": "Python 3"
    },
    "language_info": {
      "name": "python"
    }
  },
  "cells": [
    {
      "cell_type": "code",
      "metadata": {
        "id": "ZzjbPt4L4M0B"
      },
      "source": [
        "from google.colab import drive\n",
        "drive.mount('/content/gdrive')"
      ],
      "execution_count": null,
      "outputs": []
    },
    {
      "cell_type": "code",
      "metadata": {
        "id": "2R7Ph3-65gJ7"
      },
      "source": [
        "import json\n",
        "import base64\n",
        "import requests\n",
        "from requests.structures import CaseInsensitiveDict\n",
        "import os"
      ],
      "execution_count": null,
      "outputs": []
    },
    {
      "cell_type": "code",
      "metadata": {
        "id": "sWmu7_Yn5gha"
      },
      "source": [
        "#utils\n",
        "def extract_base64_contents(file):\n",
        "    with open(file, 'rb') as fp:\n",
        "        image = base64.b64encode(fp.read()).decode('ascii')\n",
        "    return image"
      ],
      "execution_count": null,
      "outputs": []
    },
    {
      "cell_type": "code",
      "metadata": {
        "id": "xl_g9t8fBGUS"
      },
      "source": [
        "#consts\n",
        "dataset_path = \"/content/gdrive/MyDrive/MIT_dataset/images/\"\n",
        "dataset_name = \"MIT_dataset\"\n",
        "\n",
        "file_extension = \".jpg\"\n",
        "face_id_map = dict() #will contain photo_name : face_id\n",
        "result_map = dict() \n",
        "\n",
        "url_base = \"https://www.betafaceapi.com/api\"\n",
        "url_upload_photo = url_base + \"/v2/media\" \n",
        "url_create_person = url_base + \"/v2/person\" \n",
        "url_recognize = url_base + \"/v2/recognize\" \n",
        "\n",
        "api_key = 'd45fd466-51e2-4701-8da8-04351c872236'\n",
        "api_secret = '171e8465-f548-401d-b63b-caf0dc28df5f'\n",
        "\n",
        "headers = CaseInsensitiveDict()\n",
        "headers[\"accept\"] = \"application/json\"\n",
        "headers[\"Content-Type\"] = \"application/json\"\n",
        "data = { 'api_key': api_key, 'api_secret': api_secret,}"
      ],
      "execution_count": null,
      "outputs": []
    },
    {
      "cell_type": "code",
      "metadata": {
        "id": "Op6XFBVyBR5p"
      },
      "source": [
        "def upload_photo(photo_name):\n",
        "  global data\n",
        "\n",
        "  complete_file_path = dataset_path + photo_name + file_extension\n",
        "  payload = { \n",
        "      \"file_base64\": extract_base64_contents(complete_file_path), \n",
        "      \"original_filename\": photo_name,\n",
        "      \"set_person_id\" : photo_name + \"@\" + dataset_name,\n",
        "  }\n",
        "\n",
        "  payload.update(data)\n",
        "\n",
        "  response = requests.post(url_upload_photo, headers=headers, data=str(payload))\n",
        "  response_json = response.json()\n",
        "  \n",
        " # print(\"upload_photo: \", json.dumps(response_json, indent = 4))\n",
        "       \n",
        "  if response.status_code != 200 or 'Error' in response_json or not response_json[\"media\"][\"faces\"]:\n",
        "    print(\"UPLOAD PHOTO FAIL: \",  json.dumps(response_json, indent = 4))\n",
        "    return None\n",
        "  else:\n",
        "    return response_json[\"media\"][\"faces\"][0][\"face_uuid\"]    "
      ],
      "execution_count": null,
      "outputs": []
    },
    {
      "cell_type": "code",
      "metadata": {
        "id": "J1Bm6v14q9IE"
      },
      "source": [
        "def init():\n",
        "  global face_id_map, result_map\n",
        "  face_id_map.clear()\n",
        "  result_map.clear()\n",
        "  \n",
        "  for filename in sorted(os.listdir(dataset_path)):\n",
        "    #print(filename)\n",
        "    \n",
        "    key = filename.split('.')[0] #get file names without extension\n",
        "    result_map.update({key : None}) #insert keys in map\n",
        "\n",
        "    print(\"Get face_id for \", key, \"...\")\n",
        "    face_id = upload_photo(key)\n",
        "\n",
        "    #face_id person in map\n",
        "    face_id_map.update({key: face_id})\n",
        "\n",
        "  print(\"face_id_map: \", json.dumps(face_id_map, indent = 4))\n",
        "  #print(json.dumps(result_map, indent = 4))"
      ],
      "execution_count": null,
      "outputs": []
    },
    {
      "cell_type": "code",
      "metadata": {
        "id": "Rfteby5wHiyO"
      },
      "source": [
        "def recognize(face_id):\n",
        "  global data\n",
        "\n",
        "  if not face_id:\n",
        "    return dict()\n",
        "\n",
        "  payload = {  \n",
        "      \"faces_uuids\": [ \n",
        "        face_id \n",
        "      ],\n",
        "      \"targets\" : [ \n",
        "        \"all@\" + dataset_name\n",
        "      ],\n",
        "      \"parameters\": \"min_match_score:0.0,min_score:0.0\"\n",
        "  }\n",
        "\n",
        "  payload.update(data)\n",
        "\n",
        "  response = requests.post(url_recognize, headers=headers, data=str(payload))\n",
        "  response_json = response.json()\n",
        "  \n",
        "  #print(\"recognize: \", json.dumps(response_json, indent = 4))\n",
        "       \n",
        "  if response.status_code != 200 or 'Errors' in response_json:\n",
        "    print(\"recognize FAIL: \", json.dumps(response_json, indent = 4)) \n",
        "     \n",
        "  else:\n",
        "\n",
        "    recognize_result_dict = dict()\n",
        "    for element in response_json[\"results\"][0][\"matches\"]:\n",
        "\n",
        "      extracted_confidence = round(float(element[\"confidence\"]) * 100,2) # 0.86944 -> 86.94\n",
        "      extracted_person_name = element[\"person_id\"].split('@')[0]\n",
        "\n",
        "      recognize_result_dict.update({extracted_person_name : extracted_confidence})\n",
        "\n",
        "    #print(json.dumps(recognize_result_dict, indent = 4))\n",
        "    return recognize_result_dict"
      ],
      "execution_count": null,
      "outputs": []
    },
    {
      "cell_type": "code",
      "metadata": {
        "id": "e3iY8y0P7M_C"
      },
      "source": [
        "def add_results():\n",
        "  global face_id_map, result_map\n",
        "\n",
        "  for key in result_map.keys():\n",
        "    \n",
        "    print(\"adding results for key:\", key, \"...\")\n",
        "    recognize_result_dict = recognize(face_id_map.get(key))\n",
        "    \n",
        "\n",
        "    #adding missing faces\n",
        "    for missing_key in result_map.keys():\n",
        "      if not recognize_result_dict or missing_key not in recognize_result_dict.keys():\n",
        "        recognize_result_dict.update({missing_key : None})\n",
        "\n",
        "    result_map.update({key : recognize_result_dict})\n",
        "  #print(json.dumps(result_map, indent = 4))"
      ],
      "execution_count": null,
      "outputs": []
    },
    {
      "cell_type": "code",
      "metadata": {
        "id": "T3VSyIy2-6l1"
      },
      "source": [
        "def show_results():\n",
        "  print(\"========================================FINAL RESULTS========================================\")\n",
        "  for key, value in sorted (result_map.items()):\n",
        "    print(key, \":{\", end=\"\")\n",
        "    if value:\n",
        "      for key2, value2 in sorted (value.items()):\n",
        "        print(value2, end=\", \", flush=True)\n",
        "      print(\"}\\n\")\n",
        "    else:\n",
        "      print(\"None}\\n\")\n"
      ],
      "execution_count": null,
      "outputs": []
    },
    {
      "cell_type": "code",
      "metadata": {
        "colab": {
          "base_uri": "https://localhost:8080/"
        },
        "id": "Uwz9R61oX8Uv",
        "outputId": "7e86f3ee-de90-4a5b-f218-ca77cc29d2b8"
      },
      "source": [
        "init()\n",
        "add_results()\n",
        "show_results()"
      ],
      "execution_count": null,
      "outputs": [
        {
          "output_type": "stream",
          "text": [
            "========================================FINAL RESULTS========================================\n",
            "0_1 :{100.0, 93.8, None, 93.8, 71.8, None, None, 65.5, None, None, None, None, None, None, None, None, None, None, None, None, None, None, None, None, None, 65.7, None, None, None, None, None, None, None, None, None, None, None, None, None, None, None, None, None, None, None, None, 70.4, 70.4, 67.8, None, 71.4, 70.2, None, 65.4, 65.4, 66.6, None, 66.3, None, }\n",
            "\n",
            "0_2 :{93.8, 100.0, None, 92.7, 69.7, None, None, None, None, None, None, None, None, None, None, None, None, None, None, None, None, None, None, None, None, None, None, None, None, None, None, None, None, None, None, 67.6, 66.2, 67.5, None, 69.5, 67.4, None, None, None, None, None, 69.0, 69.4, 68.2, None, 70.5, 68.6, None, None, None, None, None, 66.5, None, }\n",
            "\n",
            "0_3 :{None, None, None, None, None, None, None, None, None, None, None, None, None, None, None, None, None, None, None, None, None, None, None, None, None, None, None, None, None, None, None, None, None, None, None, None, None, None, None, None, None, None, None, None, None, None, None, None, None, None, None, None, None, None, None, None, None, None, None, }\n",
            "\n",
            "0_4 :{93.8, 92.7, None, 100.0, 72.4, None, None, None, None, None, None, None, None, None, None, None, None, None, None, 66.3, None, None, None, None, None, None, None, None, 66.7, None, None, None, None, None, None, None, None, 67.9, None, 67.5, None, None, None, None, None, None, 67.4, 67.7, 66.4, None, 69.9, 67.2, None, None, None, 67.1, None, 66.8, None, }\n",
            "\n",
            "0_5 :{71.8, 69.7, None, 72.4, 100.0, None, None, 74.7, None, None, None, None, None, None, None, None, None, None, None, None, 69.5, None, None, 68.3, None, 70.3, None, None, 70.2, 69.8, None, None, None, 69.2, None, None, None, 72.6, None, None, None, None, None, None, None, None, None, None, None, None, 68.7, None, None, None, None, 71.5, None, 71.1, None, }\n",
            "\n",
            "1_1 :{None, None, None, None, 64.5, 100.0, 97.4, 71.2, 96.8, None, None, None, None, None, None, None, None, None, None, None, None, None, None, 65.0, None, 65.4, None, 66.1, None, None, 67.2, None, 68.5, None, 67.1, None, None, None, None, None, None, None, None, None, None, None, None, 64.8, None, 65.4, None, None, 68.6, None, None, None, None, 65.7, None, }\n",
            "\n",
            "1_2 :{None, 64.9, None, None, None, 97.4, 100.0, 71.3, 95.8, None, None, None, None, None, None, None, None, None, None, None, None, None, None, 65.2, None, 66.5, 64.4, 65.0, None, None, 67.1, None, 67.8, None, 66.2, None, None, None, None, None, None, None, None, None, None, None, None, None, None, 65.0, None, None, 69.1, None, None, None, None, 65.4, None, }\n",
            "\n",
            "1_3 :{None, None, None, None, 74.7, 71.2, 71.3, 100.0, 71.8, 67.3, None, None, None, None, None, None, None, None, 68.8, None, None, None, None, 76.2, None, 75.8, None, None, None, None, None, None, None, None, None, None, None, None, None, None, None, None, None, None, None, 68.4, None, None, None, 67.5, None, None, 67.6, None, None, 68.2, None, 75.7, None, }\n",
            "\n",
            "1_4 :{64.6, 64.4, None, None, None, 96.8, 95.8, 71.8, 100.0, None, None, None, None, None, None, None, None, None, 64.2, None, None, None, None, 65.5, None, 66.7, None, None, None, 64.4, 65.3, None, 66.5, None, None, None, None, None, None, None, None, None, None, None, None, None, None, None, None, None, None, None, 67.2, None, None, 64.2, None, 67.6, None, }\n",
            "\n",
            "1_5 :{None, None, None, None, None, None, None, None, None, 100.0, 71.0, 68.8, None, 71.4, 74.5, 72.1, None, None, 75.5, None, None, None, None, 72.8, None, None, None, None, None, None, None, None, None, 73.0, None, None, None, None, None, None, None, 72.0, 69.0, 77.4, None, 78.3, None, None, None, 76.6, None, None, 75.5, None, None, None, None, None, None, }\n",
            "\n",
            "2_1 :{None, None, None, None, None, None, None, 64.3, None, 71.0, 100.0, 90.9, None, 94.5, 71.1, 99.2, None, None, 65.1, None, None, None, None, 65.0, None, None, None, None, None, None, None, None, None, None, None, None, None, None, None, None, None, 65.4, None, 66.7, None, 68.5, None, None, None, None, None, None, 64.5, None, None, None, 65.4, 65.4, None, }\n",
            "\n",
            "2_2 :{None, None, None, None, None, None, None, None, None, 68.8, 90.9, 100.0, None, 91.6, 74.0, 90.6, None, None, 66.5, None, None, None, None, 65.1, None, None, None, None, None, 63.9, None, None, None, None, None, None, None, None, None, None, None, 68.7, 68.6, 68.2, 67.4, 70.0, None, None, None, None, None, None, 63.9, None, None, None, None, None, None, }\n",
            "\n",
            "2_3 :{None, None, None, None, None, None, None, None, None, None, None, None, None, None, None, None, None, None, None, None, None, None, None, None, None, None, None, None, None, None, None, None, None, None, None, None, None, None, None, None, None, None, None, None, None, None, None, None, None, None, None, None, None, None, None, None, None, None, None, }\n",
            "\n",
            "2_4 :{None, None, None, None, None, None, None, None, None, 71.4, 94.5, 91.6, None, 100.0, 70.2, 94.6, None, None, 65.4, None, None, 66.5, 66.4, None, None, None, 66.6, None, None, None, None, None, None, None, None, None, None, None, None, None, None, 67.1, 66.2, 67.2, None, 67.9, None, None, None, None, None, None, 66.1, None, None, None, None, None, None, }\n",
            "\n",
            "2_5 :{None, None, None, None, None, None, None, None, None, 74.5, 71.1, 74.0, None, 70.2, 100.0, 72.3, None, None, 69.9, None, None, None, None, 74.0, None, None, None, None, None, None, None, None, None, None, None, None, None, None, None, None, None, 73.8, 71.9, 76.3, 71.4, 78.2, None, None, None, 67.8, None, None, 67.6, None, None, None, None, None, None, }\n",
            "\n",
            "2_6 :{None, None, None, None, None, None, None, None, None, 72.1, 99.2, 90.6, None, 94.6, 72.3, 100.0, None, None, 65.5, None, None, None, None, 65.4, None, None, 64.6, None, None, None, None, None, None, None, None, None, None, None, None, None, None, 66.2, None, 67.6, None, 69.4, None, None, None, None, None, None, 65.1, None, None, None, 65.2, 65.2, None, }\n",
            "\n",
            "3_1 :{None, None, None, 64.2, None, None, None, 66.4, None, None, None, None, None, None, None, None, 100.0, 94.4, 89.0, 90.3, 82.5, None, None, None, None, None, None, None, None, 64.7, None, None, None, 67.7, None, 66.2, 65.9, 65.6, None, None, 65.4, None, None, None, None, None, None, None, None, None, 64.7, None, None, None, None, None, None, 63.9, None, }\n",
            "\n",
            "3_2 :{None, None, None, 64.0, None, None, None, 65.3, None, None, None, None, None, None, None, None, 94.4, 100.0, 88.0, 86.3, 83.6, None, None, None, None, None, None, None, None, 65.4, None, None, None, 70.7, None, 69.7, 69.7, 69.7, 67.3, 65.4, 68.7, None, None, None, None, None, None, None, None, None, None, None, None, None, None, None, None, None, None, }\n",
            "\n",
            "3_3 :{None, None, None, None, 65.9, None, None, 68.8, None, 66.3, None, None, None, None, None, None, 89.0, 88.0, 100.0, 89.9, 87.1, None, None, 67.0, None, None, None, None, None, 67.0, None, None, None, 71.9, None, None, None, 69.5, None, None, None, None, None, None, None, None, None, None, None, None, None, None, None, None, None, 65.4, None, 65.5, None, }\n",
            "\n",
            "3_4 :{None, 64.7, None, 66.3, 64.0, None, None, 65.8, None, 63.5, None, None, None, None, 63.5, None, 90.3, 86.3, 89.9, 100.0, 87.5, None, None, 65.0, None, None, None, None, None, 65.1, None, None, None, 67.9, None, None, None, 64.2, None, None, None, None, None, None, None, None, None, None, None, None, None, None, None, None, None, None, None, None, None, }\n",
            "\n",
            "3_5 :{None, None, None, 65.2, 69.5, None, None, 65.1, None, None, None, None, None, None, None, None, 82.5, 83.6, 87.1, 87.5, 100.0, None, None, 67.1, None, None, None, None, None, 65.4, None, None, None, 73.8, None, 65.4, 65.5, 69.6, None, None, None, None, None, None, None, None, None, None, None, None, None, None, None, None, None, 65.2, None, None, None, }\n",
            "\n",
            "4_1 :{None, None, None, None, None, None, None, 65.7, None, 65.3, None, None, None, 66.5, None, None, None, None, None, None, None, 100.0, 96.1, 69.8, 92.6, 74.7, 98.0, None, None, None, None, None, None, None, 64.9, None, None, 65.1, None, None, None, None, None, None, None, None, None, None, None, None, None, None, 65.6, 65.0, None, None, 66.5, 66.5, None, }\n",
            "\n",
            "4_2 :{None, None, None, None, None, None, None, 66.1, None, 65.6, None, None, None, 66.4, None, None, None, None, None, None, None, 96.1, 100.0, 71.2, 94.3, 76.5, 95.6, None, None, None, None, None, None, None, None, None, None, 65.4, None, None, None, None, None, None, None, None, None, None, None, None, None, None, 65.6, 66.2, None, None, 67.9, 67.2, 65.6, }\n",
            "\n",
            "4_3 :{None, None, None, None, 68.3, None, None, 76.2, None, 72.8, None, None, None, None, 74.0, None, None, None, 72.3, None, None, 69.8, 71.2, 100.0, 68.7, 77.3, 70.4, None, None, None, None, None, None, 68.1, None, None, None, None, None, None, None, None, None, None, None, 69.3, None, None, None, None, None, None, None, None, None, 67.6, None, 72.6, None, }\n",
            "\n",
            "4_4 :{None, 65.8, None, None, None, None, None, None, None, 65.8, None, None, None, None, None, None, None, None, None, None, None, 92.6, 94.3, 68.7, 100.0, 75.7, 92.9, None, None, None, None, None, None, None, None, 65.9, 65.9, None, None, 67.0, 66.1, None, None, None, None, None, None, None, None, None, None, None, 66.0, None, None, None, 68.6, 66.5, None, }\n",
            "\n",
            "4_5 :{None, None, None, None, 70.3, None, 66.5, 75.8, 66.7, 66.6, None, None, None, None, None, None, None, None, None, None, None, 74.7, 76.5, 77.3, 75.7, 100.0, 77.6, None, None, None, None, None, None, None, None, None, None, None, None, 66.7, None, None, None, None, None, None, None, None, None, None, None, None, None, 67.1, None, 70.3, None, 72.9, None, }\n",
            "\n",
            "4_6 :{None, None, None, None, None, None, None, 66.7, None, 65.7, None, None, None, 66.6, None, None, None, None, None, None, None, 98.0, 95.6, 70.4, 92.9, 77.6, 100.0, None, None, None, None, None, None, None, None, None, None, 65.3, None, None, None, None, None, None, None, None, None, None, None, None, None, None, 66.7, 65.4, None, 65.5, 67.1, 67.1, None, }\n",
            "\n",
            "5_1 :{None, None, None, None, 66.4, None, None, None, None, None, None, None, None, None, None, None, None, None, None, None, None, None, None, None, None, None, None, 100.0, 87.6, 78.5, 93.4, None, 91.8, None, 98.3, 67.9, 66.2, 72.3, 67.2, 67.3, 67.3, None, None, None, None, None, None, None, None, 67.7, None, None, 66.8, None, None, None, None, None, None, }\n",
            "\n",
            "5_2 :{None, 66.2, None, 66.7, 70.2, None, None, 65.8, None, None, None, None, None, None, None, None, None, None, None, None, None, None, None, None, None, None, None, 87.6, 100.0, 84.8, 86.6, None, 87.4, None, 86.5, None, None, 72.7, None, 65.7, None, None, None, None, None, None, None, None, None, None, 65.7, None, 65.6, None, None, 66.8, None, None, None, }\n",
            "\n",
            "5_3 :{None, None, None, None, 69.8, None, None, 67.0, None, None, None, None, None, None, None, None, None, None, 67.8, None, None, None, None, None, None, None, None, 78.5, 84.8, 100.0, 78.6, None, 79.1, 71.8, 77.8, None, None, 77.2, None, None, None, None, None, None, None, None, None, None, None, 66.9, None, None, 66.0, None, None, None, None, 65.7, None, }\n",
            "\n",
            "5_4 :{None, None, None, None, None, 67.2, 67.1, None, None, None, None, None, None, None, None, None, None, None, None, None, None, None, None, None, None, None, None, 93.4, 86.6, 78.6, 100.0, None, 97.7, None, 94.4, 67.0, None, 72.7, 66.4, 67.2, 66.5, None, None, None, None, None, None, None, None, 67.4, None, None, 68.7, None, None, None, None, None, None, }\n",
            "\n",
            "5_5 :{None, None, None, None, None, None, None, None, None, None, None, None, None, None, None, None, None, None, None, None, None, None, None, None, None, None, None, None, None, None, None, None, None, None, None, None, None, None, None, None, None, None, None, None, None, None, None, None, None, None, None, None, None, None, None, None, None, None, None, }\n",
            "\n",
            "5_6 :{None, None, None, None, None, 68.5, 67.8, None, 66.5, None, None, None, None, None, None, None, None, None, 66.3, None, None, None, None, None, None, None, None, 91.8, 87.4, 79.1, 97.7, None, 100.0, None, 92.8, 66.0, None, 72.4, None, 66.5, None, None, None, None, None, None, None, None, None, 66.0, None, None, 67.5, None, None, None, None, None, None, }\n",
            "\n",
            "5_7 :{None, None, None, None, 69.2, None, None, None, None, 73.0, None, None, None, None, None, None, 67.7, 70.7, 71.9, 67.9, 73.8, None, None, 68.1, None, None, None, None, None, 71.8, None, None, None, 100.0, None, None, None, 73.3, None, 66.7, None, None, None, None, None, None, None, None, None, 68.1, None, None, None, None, None, None, None, 67.1, None, }\n",
            "\n",
            "5_8 :{None, None, None, None, None, 67.1, 66.2, 66.8, None, None, None, None, None, None, None, None, None, None, 66.5, None, None, None, None, None, None, None, None, 98.3, 86.5, 77.8, 94.4, None, 92.8, None, 100.0, None, None, 70.8, None, 66.1, None, None, None, None, None, None, None, None, None, 67.6, None, None, 67.7, None, None, None, None, 66.2, None, }\n",
            "\n",
            "6_1 :{None, 67.6, None, None, None, None, None, None, None, None, None, None, None, None, None, None, None, 69.7, None, None, None, None, None, None, None, None, None, 67.9, None, None, 67.0, None, None, None, None, 100.0, 97.8, 79.7, 96.9, 90.4, 99.2, None, None, None, None, None, 70.5, 69.5, 68.5, None, 70.7, 70.9, None, None, None, None, None, None, None, }\n",
            "\n",
            "6_2 :{None, 66.2, None, None, None, None, None, None, None, 66.2, None, None, None, None, None, None, None, 69.7, None, None, None, None, None, None, None, None, None, 66.2, None, None, None, None, None, None, None, 97.8, 100.0, 80.8, 96.4, 89.5, 98.0, None, None, None, None, None, 67.3, 66.5, 66.2, None, 67.5, 67.3, None, None, None, None, None, None, None, }\n",
            "\n",
            "6_3 :{None, None, None, None, 72.6, None, None, None, None, None, None, None, None, None, None, None, None, 69.7, None, None, None, None, None, None, None, None, None, 72.3, 72.7, 77.2, 72.7, None, 72.4, 73.3, 70.8, 79.7, 80.8, 100.0, 79.1, 81.2, 80.4, None, None, None, None, None, None, None, None, None, None, None, None, None, None, None, None, None, None, }\n",
            "\n",
            "6_4 :{None, None, None, None, None, None, None, None, None, 67.4, None, None, None, None, None, None, None, 67.3, None, None, None, None, None, None, None, None, None, 67.2, None, None, 66.4, None, None, None, None, 96.9, 96.4, 79.1, 100.0, 91.0, 97.2, None, None, None, None, None, 68.9, 67.9, 67.7, None, 68.6, 69.1, None, None, None, None, None, None, None, }\n",
            "\n",
            "6_5 :{None, 69.5, None, 67.5, None, None, None, None, None, 67.3, None, None, None, None, None, None, None, None, None, None, None, None, None, None, 67.0, 66.7, None, 67.3, None, None, 67.2, None, None, 66.7, None, 90.4, 89.5, 81.2, 91.0, 100.0, 90.8, None, None, None, None, None, None, None, None, None, 66.8, None, None, None, None, None, None, None, None, }\n",
            "\n",
            "6_6 :{None, 67.4, None, None, None, None, None, None, None, None, None, None, None, None, None, None, None, 68.7, None, None, None, None, None, None, None, None, None, 67.3, None, None, 66.5, None, None, None, None, 99.2, 98.0, 80.4, 97.2, 90.8, 100.0, None, None, None, None, None, 69.8, 68.9, 67.9, None, 70.3, 70.3, None, None, None, None, None, None, None, }\n",
            "\n",
            "7_1 :{None, None, None, None, None, None, None, None, None, 72.0, None, 68.7, None, 67.1, 73.8, None, None, None, None, None, None, None, None, None, None, None, None, None, None, None, None, None, None, None, None, None, None, None, None, None, None, 100.0, 95.4, 81.0, 95.5, 84.2, 67.6, 67.8, None, 69.4, 66.9, 67.4, 67.7, None, None, None, None, None, None, }\n",
            "\n",
            "7_2 :{None, None, None, None, None, None, None, None, None, 69.0, None, 68.6, None, 66.2, 71.9, None, None, None, None, None, None, None, None, None, None, None, None, None, None, None, None, None, None, None, None, None, None, None, None, None, None, 95.4, 100.0, 79.1, 97.7, 79.8, 68.5, 68.7, 67.5, 67.0, 68.2, 69.2, None, None, None, None, None, None, None, }\n",
            "\n",
            "7_3 :{None, None, None, None, None, None, None, None, None, 77.4, None, 68.2, None, 67.2, 76.3, 67.6, None, None, 67.0, None, None, None, None, 67.3, None, None, None, None, None, None, None, None, None, None, None, None, None, None, None, None, None, 81.0, 79.1, 100.0, 78.5, 84.7, None, None, None, 72.2, None, 67.0, 70.2, None, None, None, None, None, None, }\n",
            "\n",
            "7_4 :{None, None, None, None, None, None, None, None, None, 68.7, None, 67.4, None, None, 71.4, None, None, None, None, None, None, None, None, None, None, None, None, None, None, None, None, None, None, None, None, None, None, None, None, None, None, 95.5, 97.7, 78.5, 100.0, 79.7, 68.0, 68.4, 67.0, 67.9, 67.9, 68.5, 66.7, None, None, None, None, None, None, }\n",
            "\n",
            "7_5 :{None, None, None, None, None, None, None, 68.4, None, 78.3, 68.5, 70.0, None, 67.9, 78.2, 69.4, None, None, None, None, None, None, None, 69.3, None, None, None, None, None, None, None, None, None, None, None, None, None, None, None, None, None, 84.2, 79.8, 84.7, 79.7, 100.0, None, None, None, 71.3, None, None, 69.3, None, None, None, None, None, None, }\n",
            "\n",
            "8_1 :{70.4, 69.0, None, 67.4, None, None, None, None, None, None, None, None, None, None, None, None, None, None, None, None, None, None, None, None, None, None, None, None, None, None, None, None, None, None, None, 70.5, None, None, 68.9, None, 69.8, 67.6, 68.5, None, 68.0, None, 100.0, 98.6, 91.6, 70.1, 93.3, 96.4, None, None, None, None, None, None, None, }\n",
            "\n",
            "8_2 :{70.4, 69.4, None, None, None, None, None, None, None, None, None, None, None, None, None, None, None, None, None, None, None, None, None, None, None, None, None, None, None, None, None, None, None, None, None, 69.5, None, None, 67.9, None, 68.9, 67.8, 68.7, None, 68.4, None, 98.6, 100.0, 92.0, 70.1, 94.5, 94.3, None, None, 68.0, None, None, None, None, }\n",
            "\n",
            "8_3 :{67.8, 68.2, None, None, None, None, None, None, None, None, None, None, None, None, None, None, None, None, None, None, None, None, None, None, None, None, None, None, None, None, None, None, None, None, None, 68.5, None, None, 67.7, None, 67.9, None, 67.5, None, 67.0, None, 91.6, 92.0, 100.0, 69.3, 93.6, 88.9, None, None, 67.1, None, None, 67.4, None, }\n",
            "\n",
            "8_4 :{None, None, None, None, None, None, None, None, None, 76.6, None, None, None, None, 67.8, None, None, None, 68.0, None, None, None, None, None, None, None, None, None, None, None, None, None, None, 68.1, None, None, None, None, None, None, None, 69.4, None, 72.2, 67.9, 71.3, 70.1, 70.1, 69.3, 100.0, 68.2, 69.5, 86.0, None, None, None, None, None, None, }\n",
            "\n",
            "8_5 :{71.4, 70.5, None, 69.9, 68.7, None, None, None, None, None, None, None, None, None, None, None, None, None, None, None, None, None, None, None, None, None, None, None, None, None, None, None, None, None, None, 70.7, None, None, 68.6, None, 70.3, None, None, None, None, None, 93.3, 94.5, 93.6, None, 100.0, 91.8, None, 68.5, 68.4, None, None, None, 68.3, }\n",
            "\n",
            "8_6 :{70.2, 68.6, None, None, None, None, None, None, None, None, None, None, None, None, None, None, None, None, None, None, None, None, None, None, None, None, None, None, None, None, None, None, None, None, None, 70.9, 67.3, None, 69.1, None, 70.3, 67.4, 69.2, None, 68.5, None, 96.4, 94.3, 88.9, 69.5, 91.8, 100.0, None, None, None, None, None, None, None, }\n",
            "\n",
            "8_7 :{None, None, None, None, None, 68.6, 69.1, 67.6, 67.2, 75.5, None, None, None, None, 67.6, None, None, None, 69.5, None, None, None, None, None, None, None, None, None, None, None, 68.7, None, 67.5, None, 67.7, None, None, None, None, None, None, 67.7, None, 70.2, None, 69.3, None, None, None, 86.0, None, None, 100.0, None, None, None, None, None, None, }\n",
            "\n",
            "9_1 :{None, None, None, 65.9, 66.0, None, None, None, None, 67.1, None, None, None, None, None, None, None, None, None, None, None, None, 66.2, None, None, 67.1, None, None, None, None, None, None, None, None, None, None, None, None, None, None, None, None, None, None, None, None, 66.6, 67.5, 66.7, None, 68.5, None, None, 100.0, 95.7, 85.4, 93.6, 80.7, 98.9, }\n",
            "\n",
            "9_2 :{None, None, None, 66.1, None, None, None, None, None, 66.6, None, None, None, None, None, None, None, None, None, None, None, None, None, None, None, None, None, None, None, None, None, None, None, None, None, 66.0, 66.1, None, None, None, 65.9, None, None, None, None, None, 66.7, 68.0, 67.1, None, 68.4, None, None, 95.7, 100.0, 83.2, 94.6, 79.6, 95.9, }\n",
            "\n",
            "9_3 :{66.6, 65.8, None, 67.1, 71.5, None, None, 68.2, None, None, None, None, None, None, None, None, None, None, None, None, None, None, None, 67.6, None, 70.3, None, None, 66.8, 65.6, None, None, None, None, None, None, None, None, None, None, None, None, None, None, None, None, None, None, None, None, None, None, None, 85.4, 83.2, 100.0, 83.4, 79.0, 85.2, }\n",
            "\n",
            "9_4 :{None, None, None, 65.6, None, None, None, None, None, 66.5, None, None, None, None, None, None, None, None, None, None, None, 66.5, 67.9, None, 68.6, 66.5, 67.1, None, None, None, None, None, None, None, None, None, 65.7, None, None, None, None, None, None, None, None, None, None, None, None, None, 65.5, None, None, 93.6, 94.6, 83.4, 100.0, 80.4, 94.6, }\n",
            "\n",
            "9_5 :{None, None, None, None, 71.1, None, None, 75.7, 67.6, None, None, None, None, None, None, None, None, None, None, None, None, None, 67.2, 72.6, None, 72.9, 67.1, None, None, None, None, None, None, None, None, None, None, None, None, None, None, None, None, None, None, None, None, None, 67.4, None, 68.1, None, None, 80.7, 79.6, 79.0, 80.4, 100.0, 79.1, }\n",
            "\n",
            "9_6 :{None, None, None, None, 65.4, None, None, None, None, 67.2, None, None, None, None, None, None, None, None, None, None, None, None, 65.6, None, None, 65.5, None, None, None, None, None, None, None, None, None, None, None, None, None, None, None, None, None, None, None, None, 67.0, 67.8, 66.9, None, 68.3, 65.9, None, 98.9, 95.9, 85.2, 94.6, 79.1, 100.0, }\n",
            "\n"
          ],
          "name": "stdout"
        }
      ]
    }
  ]
}